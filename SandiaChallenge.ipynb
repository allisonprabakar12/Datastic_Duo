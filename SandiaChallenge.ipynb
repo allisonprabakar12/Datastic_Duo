{
 "cells": [
  {
   "cell_type": "code",
   "execution_count": 2,
   "metadata": {},
   "outputs": [],
   "source": [
    "import pandas as pd\n",
    "import zipfile\n",
    "import os\n",
    "from io import TextIOWrapper\n",
    "from sklearn.ensemble import RandomForestClassifier\n",
    "from sklearn.model_selection import train_test_split\n",
    "from sklearn.metrics import accuracy_score, f1_score, confusion_matrix\n",
    "\n",
    "# Load Metadata\n",
    "metadata = pd.read_csv(\"metadata.csv\") \n",
    "# Storing whether each participant is Spanish Bilingual or not in a dictionary \n",
    "label_lookup = metadata.set_index(\"participant\")[\"spanish\"].astype(int).to_dict()\n",
    "\n",
    "# Identify participants\n",
    "# Participants who only know English\n",
    "#only_english = metadata[metadata[['spanish', 'german', 'french']].sum(axis=1) == 0]['participant'].astype(str).tolist()\n",
    "# Participants who know English and Spanish\n",
    "#bilingual_spanish = metadata[metadata['spanish'] == 1]['participant'].astype(str).tolist()\n",
    "\n",
    " \n"
   ]
  },
  {
   "cell_type": "code",
   "execution_count": 7,
   "metadata": {},
   "outputs": [
    {
     "data": {
      "text/plain": [
       "(1596, 34)"
      ]
     },
     "execution_count": 7,
     "metadata": {},
     "output_type": "execute_result"
    }
   ],
   "source": [
    "# Folder where CSVs are extracted\n",
    "erp_folder = \"EEG_Measurements\"\n",
    "\n",
    "# ERP row range for 300–500ms - key window for analysis (N400)\n",
    "start_row, end_row = 102, 154\n",
    "\n",
    "# Store results from each EEG file\n",
    "feature_rows = []\n",
    "\n",
    "for file in os.listdir(erp_folder):\n",
    "    if not file.endswith(\".csv\"):\n",
    "        continue\n",
    "     #only focusing on these 2 file types to target Spanish Bilingualism \n",
    "    if \"spanish-english_translation\" not in file and \"spanish-english_unrelated\" not in file:\n",
    "        continue\n",
    "\n",
    "    participant_id = int(file.split(\"_\")[-1].split(\".\")[0])\n",
    "    condition = \"translation\" if \"translation\" in file else \"unrelated\"\n",
    "    word = file.split(\"_\")[0].lower()\n",
    "\n",
    "    df = pd.read_csv(os.path.join(erp_folder, file))\n",
    "    df_window = df.iloc[start_row:end_row] #target window\n",
    "    avg_vals = df_window.mean(numeric_only=True) #averaging values across electrodes \n",
    "\n",
    "    row = {\n",
    "        \"participant\": participant_id,\n",
    "        \"word\": word,\n",
    "        \"condition\": condition,\n",
    "        \"label\": label_lookup.get(participant_id)\n",
    "    }\n",
    "    #adding averaged EEG features\n",
    "    row.update(avg_vals.to_dict()) \n",
    "    feature_rows.append(row)\n",
    "\n",
    "eeg_df = pd.DataFrame(feature_rows)\n",
    "eeg_df.shape\n"
   ]
  }
 ],
 "metadata": {
  "kernelspec": {
   "display_name": "Python 3",
   "language": "python",
   "name": "python3"
  },
  "language_info": {
   "codemirror_mode": {
    "name": "ipython",
    "version": 3
   },
   "file_extension": ".py",
   "mimetype": "text/x-python",
   "name": "python",
   "nbconvert_exporter": "python",
   "pygments_lexer": "ipython3",
   "version": "3.9.6"
  },
  "orig_nbformat": 4
 },
 "nbformat": 4,
 "nbformat_minor": 2
}
