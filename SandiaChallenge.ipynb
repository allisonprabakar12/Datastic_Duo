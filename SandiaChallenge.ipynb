{
 "cells": [
  {
   "cell_type": "code",
   "execution_count": 5,
   "metadata": {},
   "outputs": [
    {
     "name": "stdout",
     "output_type": "stream",
     "text": [
      "Combined Data Shape: (946688, 32)\n",
      "        Fp1        Fpz        Fp2         F7         F3         Fz         F4  \\\n",
      "0  27.66591  12.225066  11.734828  15.625109   4.343016   8.144852  17.373375   \n",
      "1  22.20091  10.263066  11.692828  13.821109   6.901016   9.769852  13.671375   \n",
      "2  20.72891  10.159066  12.435828  13.676109   8.794016  10.945852  10.768375   \n",
      "3  22.93391  11.919066  13.494828  14.876109  10.023016  11.741852   8.851375   \n",
      "4  27.21091  14.920066  14.279828  16.481109  10.785016  12.374852   8.074375   \n",
      "\n",
      "         F8       FC5        FC1  ...         P3         Pz        P4  \\\n",
      "0  18.10809   8.85207  11.567945  ...   8.624773  10.399688  7.828789   \n",
      "1  12.17309  12.14807  13.235945  ...  10.494773  11.774688  8.667789   \n",
      "2   8.95009  13.94707  14.446945  ...  11.687773  12.525688  8.855789   \n",
      "3   8.44109  14.13507  15.243945  ...  12.273773  12.744687  8.558789   \n",
      "4   9.91009  13.08307  15.822945  ...  12.512773  12.715687  8.172789   \n",
      "\n",
      "         P8        POz       O1         Oz        O2  label  Unnamed: 0  \n",
      "0  6.220504  12.139715  6.79077  12.242328  4.490156      1         NaN  \n",
      "1  5.665504  12.031715  7.22577  13.063328  4.743156      1         NaN  \n",
      "2  5.192504  11.801715  7.22377  13.386328  4.602156      1         NaN  \n",
      "3  4.928504  11.550715  6.91477  13.258328  4.186156      1         NaN  \n",
      "4  4.993504  11.450715  6.57777  12.885328  3.772156      1         NaN  \n",
      "\n",
      "[5 rows x 32 columns]\n"
     ]
    },
    {
     "data": {
      "text/plain": [
       "'\\n# Step 3: Model Setup\\nX = ... # features\\ny = ... # labels\\nX_train, X_test, y_train, y_test = train_test_split(X, y, stratify=y, test_size=0.3)\\n\\nmodel = RandomForestClassifier(n_estimators=100, max_depth=10)\\nmodel.fit(X_train, y_train)\\n\\n# Step 4: Evaluate Model\\ny_pred = model.predict(X_test)\\nprint(\"Accuracy:\", accuracy_score(y_test, y_pred))\\nprint(\"F1 Score:\", f1_score(y_test, y_pred))\\nprint(\"Confusion Matrix:\\n\", confusion_matrix(y_test, y_pred))\\nprint(\"Feature Importance:\", model.feature_importances_)\\n'"
      ]
     },
     "execution_count": 5,
     "metadata": {},
     "output_type": "execute_result"
    }
   ],
   "source": [
    "import pandas as pd \n",
    "meta_data = pd.read_csv(\"metadata.csv\")\n",
    "meta_data\n",
    "import os\n",
    "from sklearn.ensemble import RandomForestClassifier\n",
    "from sklearn.model_selection import train_test_split\n",
    "from sklearn.metrics import accuracy_score, f1_score, confusion_matrix\n",
    "\n",
    "# Step 1: Load Data\n",
    "path = \"EEG_Measurements\"\n",
    "data = []\n",
    "\n",
    "for file in os.listdir(path):\n",
    "    if \"spanish-english\" in file or \"english-english\"in file:\n",
    "        df = pd.read_csv(os.path.join(path, file))\n",
    "        df['label'] = 1 if \"spanish-english\" in file else 0  # 1 for bilingual, 0 for monolingual\n",
    "        data.append(df)\n",
    "\n",
    "all_data = pd.concat(data, ignore_index=True)\n",
    "print(\"Combined Data Shape:\", all_data.shape)\n",
    "print(all_data.head())  # Display the first few rows of the combined data\n",
    "\n",
    "\n",
    "# Step 2: Data Aggregation and Feature Engineering\n",
    "# Aggregate data, focus on N400 window, calculate summary features...\n",
    "'''\n",
    "# Step 3: Model Setup\n",
    "X = ... # features\n",
    "y = ... # labels\n",
    "X_train, X_test, y_train, y_test = train_test_split(X, y, stratify=y, test_size=0.3)\n",
    "\n",
    "model = RandomForestClassifier(n_estimators=100, max_depth=10)\n",
    "model.fit(X_train, y_train)\n",
    "\n",
    "# Step 4: Evaluate Model\n",
    "y_pred = model.predict(X_test)\n",
    "print(\"Accuracy:\", accuracy_score(y_test, y_pred))\n",
    "print(\"F1 Score:\", f1_score(y_test, y_pred))\n",
    "print(\"Confusion Matrix:\\n\", confusion_matrix(y_test, y_pred))\n",
    "print(\"Feature Importance:\", model.feature_importances_)\n",
    "'''"
   ]
  }
 ],
 "metadata": {
  "kernelspec": {
   "display_name": "Python 3",
   "language": "python",
   "name": "python3"
  },
  "language_info": {
   "codemirror_mode": {
    "name": "ipython",
    "version": 3
   },
   "file_extension": ".py",
   "mimetype": "text/x-python",
   "name": "python",
   "nbconvert_exporter": "python",
   "pygments_lexer": "ipython3",
   "version": "3.9.6"
  },
  "orig_nbformat": 4
 },
 "nbformat": 4,
 "nbformat_minor": 2
}
